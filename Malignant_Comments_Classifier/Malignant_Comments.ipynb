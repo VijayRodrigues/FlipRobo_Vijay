{
 "cells": [
  {
   "cell_type": "markdown",
   "id": "8d938290",
   "metadata": {
    "id": "8d938290"
   },
   "source": [
    "# MALIGNANT COMMENTS CLASSIFICATION\n",
    "\n",
    "#### Problem Statement\n",
    "\n",
    "The proliferation of social media enables people to express their opinions widely online. However, at the same time, this has resulted in the emergence of conflict and hate, making online environments uninviting for users. Although researchers have found that hate is a problem across multiple platforms, there is a lack of models for online hate detection.\n",
    "Online hate, described as abusive language, aggression, cyberbullying, hatefulness and many others has been identified as a major threat on online social media platforms. Social media platforms are the most prominent grounds for such toxic behaviour.   \n",
    "There has been a remarkable increase in the cases of cyberbullying and trolls on various social media platforms. Many celebrities and influences are facing backlashes from people and have to come across hateful and offensive comments. This can take a toll on anyone and affect them mentally leading to depression, mental illness, self-hatred and suicidal thoughts.    \n",
    "Internet comments are bastions of hatred and vitriol. While online anonymity has provided a new outlet for aggression and hate speech, machine learning can be used to fight it. The problem we sought to solve was the tagging of internet comments that are aggressive towards other users. This means that insults to third parties such as celebrities will be tagged as unoffensive, but “u are an idiot” is clearly offensive.\n",
    "\n",
    "Our goal is to build a prototype of online hate and abuse comment classifier which can used to classify hate and offensive comments so that it can be controlled and restricted from spreading hatred and cyberbullying. \n"
   ]
  },
  {
   "cell_type": "markdown",
   "id": "aae5ab41",
   "metadata": {
    "id": "aae5ab41"
   },
   "source": [
    "# Importing the libraries"
   ]
  },
  {
   "cell_type": "code",
   "execution_count": 1,
   "id": "05203ad1",
   "metadata": {
    "id": "05203ad1"
   },
   "outputs": [],
   "source": [
    "import numpy as np\n",
    "import pandas as pd\n",
    "\n",
    "import matplotlib.pyplot as plt\n",
    "import seaborn as sns\n",
    "\n",
    "from sklearn.tree import DecisionTreeClassifier\n",
    "from sklearn.ensemble import RandomForestClassifier\n",
    "from sklearn.ensemble import ExtraTreesClassifier\n",
    "\n",
    "from sklearn.model_selection import train_test_split\n",
    "\n",
    "from statsmodels.stats.outliers_influence import variance_inflation_factor\n",
    "from sklearn.metrics import accuracy_score, confusion_matrix, classification_report\n",
    "\n",
    "%matplotlib inline\n",
    "import warnings\n",
    "warnings.filterwarnings(\"ignore\")\n"
   ]
  },
  {
   "cell_type": "markdown",
   "id": "fce70ec1",
   "metadata": {
    "id": "fce70ec1"
   },
   "source": [
    "# Loading the Dataset\n"
   ]
  },
  {
   "cell_type": "code",
   "execution_count": 2,
   "id": "3cd12b20",
   "metadata": {
    "colab": {
     "base_uri": "https://localhost:8080/",
     "height": 309
    },
    "id": "3cd12b20",
    "outputId": "3a36536f-bff5-420c-b68e-2a01c82822c7",
    "scrolled": true
   },
   "outputs": [
    {
     "data": {
      "text/html": [
       "<div>\n",
       "<style scoped>\n",
       "    .dataframe tbody tr th:only-of-type {\n",
       "        vertical-align: middle;\n",
       "    }\n",
       "\n",
       "    .dataframe tbody tr th {\n",
       "        vertical-align: top;\n",
       "    }\n",
       "\n",
       "    .dataframe thead th {\n",
       "        text-align: right;\n",
       "    }\n",
       "</style>\n",
       "<table border=\"1\" class=\"dataframe\">\n",
       "  <thead>\n",
       "    <tr style=\"text-align: right;\">\n",
       "      <th></th>\n",
       "      <th>id</th>\n",
       "      <th>comment_text</th>\n",
       "      <th>malignant</th>\n",
       "      <th>highly_malignant</th>\n",
       "      <th>rude</th>\n",
       "      <th>threat</th>\n",
       "      <th>abuse</th>\n",
       "      <th>loathe</th>\n",
       "    </tr>\n",
       "  </thead>\n",
       "  <tbody>\n",
       "    <tr>\n",
       "      <th>0</th>\n",
       "      <td>0000997932d777bf</td>\n",
       "      <td>Explanation\\nWhy the edits made under my usern...</td>\n",
       "      <td>0</td>\n",
       "      <td>0</td>\n",
       "      <td>0</td>\n",
       "      <td>0</td>\n",
       "      <td>0</td>\n",
       "      <td>0</td>\n",
       "    </tr>\n",
       "    <tr>\n",
       "      <th>1</th>\n",
       "      <td>000103f0d9cfb60f</td>\n",
       "      <td>D'aww! He matches this background colour I'm s...</td>\n",
       "      <td>0</td>\n",
       "      <td>0</td>\n",
       "      <td>0</td>\n",
       "      <td>0</td>\n",
       "      <td>0</td>\n",
       "      <td>0</td>\n",
       "    </tr>\n",
       "    <tr>\n",
       "      <th>2</th>\n",
       "      <td>000113f07ec002fd</td>\n",
       "      <td>Hey man, I'm really not trying to edit war. It...</td>\n",
       "      <td>0</td>\n",
       "      <td>0</td>\n",
       "      <td>0</td>\n",
       "      <td>0</td>\n",
       "      <td>0</td>\n",
       "      <td>0</td>\n",
       "    </tr>\n",
       "    <tr>\n",
       "      <th>3</th>\n",
       "      <td>0001b41b1c6bb37e</td>\n",
       "      <td>\"\\nMore\\nI can't make any real suggestions on ...</td>\n",
       "      <td>0</td>\n",
       "      <td>0</td>\n",
       "      <td>0</td>\n",
       "      <td>0</td>\n",
       "      <td>0</td>\n",
       "      <td>0</td>\n",
       "    </tr>\n",
       "    <tr>\n",
       "      <th>4</th>\n",
       "      <td>0001d958c54c6e35</td>\n",
       "      <td>You, sir, are my hero. Any chance you remember...</td>\n",
       "      <td>0</td>\n",
       "      <td>0</td>\n",
       "      <td>0</td>\n",
       "      <td>0</td>\n",
       "      <td>0</td>\n",
       "      <td>0</td>\n",
       "    </tr>\n",
       "  </tbody>\n",
       "</table>\n",
       "</div>"
      ],
      "text/plain": [
       "                 id                                       comment_text  \\\n",
       "0  0000997932d777bf  Explanation\\nWhy the edits made under my usern...   \n",
       "1  000103f0d9cfb60f  D'aww! He matches this background colour I'm s...   \n",
       "2  000113f07ec002fd  Hey man, I'm really not trying to edit war. It...   \n",
       "3  0001b41b1c6bb37e  \"\\nMore\\nI can't make any real suggestions on ...   \n",
       "4  0001d958c54c6e35  You, sir, are my hero. Any chance you remember...   \n",
       "\n",
       "   malignant  highly_malignant  rude  threat  abuse  loathe  \n",
       "0          0                 0     0       0      0       0  \n",
       "1          0                 0     0       0      0       0  \n",
       "2          0                 0     0       0      0       0  \n",
       "3          0                 0     0       0      0       0  \n",
       "4          0                 0     0       0      0       0  "
      ]
     },
     "execution_count": 2,
     "metadata": {},
     "output_type": "execute_result"
    }
   ],
   "source": [
    "# train dataset\n",
    "\n",
    "df_train = pd.read_csv(\"D:/Malignant Comments Classifier Project/train.csv\")\n",
    "df_train.head()"
   ]
  },
  {
   "cell_type": "code",
   "execution_count": 3,
   "id": "c0dd4adc",
   "metadata": {},
   "outputs": [
    {
     "data": {
      "text/html": [
       "<div>\n",
       "<style scoped>\n",
       "    .dataframe tbody tr th:only-of-type {\n",
       "        vertical-align: middle;\n",
       "    }\n",
       "\n",
       "    .dataframe tbody tr th {\n",
       "        vertical-align: top;\n",
       "    }\n",
       "\n",
       "    .dataframe thead th {\n",
       "        text-align: right;\n",
       "    }\n",
       "</style>\n",
       "<table border=\"1\" class=\"dataframe\">\n",
       "  <thead>\n",
       "    <tr style=\"text-align: right;\">\n",
       "      <th></th>\n",
       "      <th>id</th>\n",
       "      <th>comment_text</th>\n",
       "    </tr>\n",
       "  </thead>\n",
       "  <tbody>\n",
       "    <tr>\n",
       "      <th>0</th>\n",
       "      <td>00001cee341fdb12</td>\n",
       "      <td>Yo bitch Ja Rule is more succesful then you'll...</td>\n",
       "    </tr>\n",
       "    <tr>\n",
       "      <th>1</th>\n",
       "      <td>0000247867823ef7</td>\n",
       "      <td>== From RfC == \\n\\n The title is fine as it is...</td>\n",
       "    </tr>\n",
       "    <tr>\n",
       "      <th>2</th>\n",
       "      <td>00013b17ad220c46</td>\n",
       "      <td>\" \\n\\n == Sources == \\n\\n * Zawe Ashton on Lap...</td>\n",
       "    </tr>\n",
       "    <tr>\n",
       "      <th>3</th>\n",
       "      <td>00017563c3f7919a</td>\n",
       "      <td>:If you have a look back at the source, the in...</td>\n",
       "    </tr>\n",
       "    <tr>\n",
       "      <th>4</th>\n",
       "      <td>00017695ad8997eb</td>\n",
       "      <td>I don't anonymously edit articles at all.</td>\n",
       "    </tr>\n",
       "  </tbody>\n",
       "</table>\n",
       "</div>"
      ],
      "text/plain": [
       "                 id                                       comment_text\n",
       "0  00001cee341fdb12  Yo bitch Ja Rule is more succesful then you'll...\n",
       "1  0000247867823ef7  == From RfC == \\n\\n The title is fine as it is...\n",
       "2  00013b17ad220c46  \" \\n\\n == Sources == \\n\\n * Zawe Ashton on Lap...\n",
       "3  00017563c3f7919a  :If you have a look back at the source, the in...\n",
       "4  00017695ad8997eb          I don't anonymously edit articles at all."
      ]
     },
     "execution_count": 3,
     "metadata": {},
     "output_type": "execute_result"
    }
   ],
   "source": [
    "#test dataset\n",
    "\n",
    "df_test = pd.read_csv(\"D:/Malignant Comments Classifier Project/test.csv\")\n",
    "df_test.head()"
   ]
  },
  {
   "cell_type": "markdown",
   "id": "ef129d95",
   "metadata": {
    "id": "ef129d95"
   },
   "source": [
    "### Shape of the dataset\n",
    "\n",
    "#### The dataset appears to have a total of 7752 records and 25 columns including 2 target column"
   ]
  },
  {
   "cell_type": "code",
   "execution_count": 4,
   "id": "f90c30d2",
   "metadata": {
    "colab": {
     "base_uri": "https://localhost:8080/"
    },
    "id": "f90c30d2",
    "outputId": "39013d47-9c15-4af2-fd69-3aaac8300b52"
   },
   "outputs": [
    {
     "data": {
      "text/plain": [
       "(159571, 8)"
      ]
     },
     "execution_count": 4,
     "metadata": {},
     "output_type": "execute_result"
    }
   ],
   "source": [
    "df_train.shape"
   ]
  },
  {
   "cell_type": "code",
   "execution_count": 11,
   "id": "89581e2d",
   "metadata": {
    "colab": {
     "base_uri": "https://localhost:8080/"
    },
    "id": "89581e2d",
    "outputId": "2673dbfd-7c67-4f9b-9a1b-ec4ba165b9c0"
   },
   "outputs": [
    {
     "data": {
      "text/plain": [
       "Index(['id', 'comment_text', 'malignant', 'highly_malignant', 'rude', 'threat',\n",
       "       'abuse', 'loathe'],\n",
       "      dtype='object')"
      ]
     },
     "execution_count": 11,
     "metadata": {},
     "output_type": "execute_result"
    }
   ],
   "source": [
    "# list of column names\n",
    "\n",
    "df_train.columns"
   ]
  },
  {
   "cell_type": "markdown",
   "id": "5a7ee2b9",
   "metadata": {
    "id": "5a7ee2b9"
   },
   "source": [
    "# Preporcessing\n",
    "\n",
    "\n",
    "### We have 24 float64 type features  and  1 object type feature. The target variables \"Next_Tmax\" and \"Next_Tmin\"  ate also float64 type"
   ]
  },
  {
   "cell_type": "code",
   "execution_count": 5,
   "id": "94e1de4c",
   "metadata": {
    "colab": {
     "base_uri": "https://localhost:8080/"
    },
    "id": "94e1de4c",
    "outputId": "f6603271-fb1b-40d1-e450-e49cd67a7c9a",
    "scrolled": false
   },
   "outputs": [
    {
     "name": "stdout",
     "output_type": "stream",
     "text": [
      "<class 'pandas.core.frame.DataFrame'>\n",
      "RangeIndex: 159571 entries, 0 to 159570\n",
      "Data columns (total 8 columns):\n",
      " #   Column            Non-Null Count   Dtype \n",
      "---  ------            --------------   ----- \n",
      " 0   id                159571 non-null  object\n",
      " 1   comment_text      159571 non-null  object\n",
      " 2   malignant         159571 non-null  int64 \n",
      " 3   highly_malignant  159571 non-null  int64 \n",
      " 4   rude              159571 non-null  int64 \n",
      " 5   threat            159571 non-null  int64 \n",
      " 6   abuse             159571 non-null  int64 \n",
      " 7   loathe            159571 non-null  int64 \n",
      "dtypes: int64(6), object(2)\n",
      "memory usage: 9.7+ MB\n"
     ]
    }
   ],
   "source": [
    "df_train.info()"
   ]
  },
  {
   "cell_type": "code",
   "execution_count": 6,
   "id": "28774234",
   "metadata": {},
   "outputs": [
    {
     "name": "stdout",
     "output_type": "stream",
     "text": [
      "<class 'pandas.core.frame.DataFrame'>\n",
      "RangeIndex: 153164 entries, 0 to 153163\n",
      "Data columns (total 2 columns):\n",
      " #   Column        Non-Null Count   Dtype \n",
      "---  ------        --------------   ----- \n",
      " 0   id            153164 non-null  object\n",
      " 1   comment_text  153164 non-null  object\n",
      "dtypes: object(2)\n",
      "memory usage: 2.3+ MB\n"
     ]
    }
   ],
   "source": [
    "df_test.info()"
   ]
  },
  {
   "cell_type": "markdown",
   "id": "8411c190",
   "metadata": {
    "id": "8411c190"
   },
   "source": [
    "#### Lets plot a heatmap to identify if any null values\n",
    "\n",
    "#### We have a lots of missing values in all the features that also includes both the target columns\n",
    "#### The only features that have no missing values are  \"lat\",  \"lon\",  \"DEM\",  \"Slope\" and  \"Solar radiation\""
   ]
  },
  {
   "cell_type": "code",
   "execution_count": 16,
   "id": "64c24e27",
   "metadata": {},
   "outputs": [
    {
     "data": {
      "text/plain": [
       "id                  0\n",
       "comment_text        0\n",
       "malignant           0\n",
       "highly_malignant    0\n",
       "rude                0\n",
       "threat              0\n",
       "abuse               0\n",
       "loathe              0\n",
       "dtype: int64"
      ]
     },
     "execution_count": 16,
     "metadata": {},
     "output_type": "execute_result"
    }
   ],
   "source": [
    "df_train.isnull().sum()"
   ]
  },
  {
   "cell_type": "code",
   "execution_count": 18,
   "id": "86c85372",
   "metadata": {},
   "outputs": [
    {
     "data": {
      "text/plain": [
       "id              0\n",
       "comment_text    0\n",
       "dtype: int64"
      ]
     },
     "execution_count": 18,
     "metadata": {},
     "output_type": "execute_result"
    }
   ],
   "source": [
    "df_test.isnull().sum()"
   ]
  },
  {
   "cell_type": "markdown",
   "id": "ccea5dcd",
   "metadata": {},
   "source": [
    "### Drop the ID columns"
   ]
  },
  {
   "cell_type": "code",
   "execution_count": null,
   "id": "97829fb4",
   "metadata": {},
   "outputs": [],
   "source": [
    "df_train.drop(columns = [\"id\"], axis=1, inplace=True)\n",
    "df_test.drop(columns = [\"id\"], axis=1, inplace=True)"
   ]
  },
  {
   "cell_type": "markdown",
   "id": "3af6331c",
   "metadata": {},
   "source": [
    "# Encoding the dataset\n",
    "\n",
    "\n",
    "### I have used LabelEncoder as we have only 5 classes in outputs.\n",
    "### The column \"comment_text\" is converted to it's corresponding numerical value"
   ]
  },
  {
   "cell_type": "code",
   "execution_count": 23,
   "id": "1f92dd9e",
   "metadata": {},
   "outputs": [],
   "source": [
    "from sklearn.preprocessing import LabelEncoder\n",
    "\n",
    "encoder = LabelEncoder()\n",
    "\n",
    "# Encode the training dataset\n",
    "\n",
    "df_train.comment_text = encoder.fit_transform(df_train.comment_text)\n",
    "\n",
    "\n",
    "# Encode the test dataset\n",
    "\n",
    "df_test.comment_text = encoder.fit_transform(df_test.comment_text)"
   ]
  },
  {
   "cell_type": "markdown",
   "id": "2cf85f89",
   "metadata": {
    "id": "2cf85f89"
   },
   "source": [
    "# Let's now observe the stats of the dataset\n",
    "\n",
    "### All the values are accounted for and has no missing values\n",
    "\n",
    "#### Difference between mean and std also seems fine . However we will check for skewness if any in the further steps"
   ]
  },
  {
   "cell_type": "code",
   "execution_count": 24,
   "id": "20267057",
   "metadata": {
    "colab": {
     "base_uri": "https://localhost:8080/",
     "height": 317
    },
    "id": "20267057",
    "outputId": "6fb5e1e6-dedf-4bd3-8f62-c0aea0fae99a"
   },
   "outputs": [
    {
     "data": {
      "text/html": [
       "<div>\n",
       "<style scoped>\n",
       "    .dataframe tbody tr th:only-of-type {\n",
       "        vertical-align: middle;\n",
       "    }\n",
       "\n",
       "    .dataframe tbody tr th {\n",
       "        vertical-align: top;\n",
       "    }\n",
       "\n",
       "    .dataframe thead th {\n",
       "        text-align: right;\n",
       "    }\n",
       "</style>\n",
       "<table border=\"1\" class=\"dataframe\">\n",
       "  <thead>\n",
       "    <tr style=\"text-align: right;\">\n",
       "      <th></th>\n",
       "      <th>comment_text</th>\n",
       "      <th>malignant</th>\n",
       "      <th>highly_malignant</th>\n",
       "      <th>rude</th>\n",
       "      <th>threat</th>\n",
       "      <th>abuse</th>\n",
       "      <th>loathe</th>\n",
       "    </tr>\n",
       "  </thead>\n",
       "  <tbody>\n",
       "    <tr>\n",
       "      <th>count</th>\n",
       "      <td>159571.00000</td>\n",
       "      <td>159571.000000</td>\n",
       "      <td>159571.000000</td>\n",
       "      <td>159571.000000</td>\n",
       "      <td>159571.000000</td>\n",
       "      <td>159571.000000</td>\n",
       "      <td>159571.000000</td>\n",
       "    </tr>\n",
       "    <tr>\n",
       "      <th>mean</th>\n",
       "      <td>79785.00000</td>\n",
       "      <td>0.095844</td>\n",
       "      <td>0.009996</td>\n",
       "      <td>0.052948</td>\n",
       "      <td>0.002996</td>\n",
       "      <td>0.049364</td>\n",
       "      <td>0.008805</td>\n",
       "    </tr>\n",
       "    <tr>\n",
       "      <th>std</th>\n",
       "      <td>46064.32424</td>\n",
       "      <td>0.294379</td>\n",
       "      <td>0.099477</td>\n",
       "      <td>0.223931</td>\n",
       "      <td>0.054650</td>\n",
       "      <td>0.216627</td>\n",
       "      <td>0.093420</td>\n",
       "    </tr>\n",
       "    <tr>\n",
       "      <th>min</th>\n",
       "      <td>0.00000</td>\n",
       "      <td>0.000000</td>\n",
       "      <td>0.000000</td>\n",
       "      <td>0.000000</td>\n",
       "      <td>0.000000</td>\n",
       "      <td>0.000000</td>\n",
       "      <td>0.000000</td>\n",
       "    </tr>\n",
       "    <tr>\n",
       "      <th>25%</th>\n",
       "      <td>39892.50000</td>\n",
       "      <td>0.000000</td>\n",
       "      <td>0.000000</td>\n",
       "      <td>0.000000</td>\n",
       "      <td>0.000000</td>\n",
       "      <td>0.000000</td>\n",
       "      <td>0.000000</td>\n",
       "    </tr>\n",
       "    <tr>\n",
       "      <th>50%</th>\n",
       "      <td>79785.00000</td>\n",
       "      <td>0.000000</td>\n",
       "      <td>0.000000</td>\n",
       "      <td>0.000000</td>\n",
       "      <td>0.000000</td>\n",
       "      <td>0.000000</td>\n",
       "      <td>0.000000</td>\n",
       "    </tr>\n",
       "    <tr>\n",
       "      <th>75%</th>\n",
       "      <td>119677.50000</td>\n",
       "      <td>0.000000</td>\n",
       "      <td>0.000000</td>\n",
       "      <td>0.000000</td>\n",
       "      <td>0.000000</td>\n",
       "      <td>0.000000</td>\n",
       "      <td>0.000000</td>\n",
       "    </tr>\n",
       "    <tr>\n",
       "      <th>max</th>\n",
       "      <td>159570.00000</td>\n",
       "      <td>1.000000</td>\n",
       "      <td>1.000000</td>\n",
       "      <td>1.000000</td>\n",
       "      <td>1.000000</td>\n",
       "      <td>1.000000</td>\n",
       "      <td>1.000000</td>\n",
       "    </tr>\n",
       "  </tbody>\n",
       "</table>\n",
       "</div>"
      ],
      "text/plain": [
       "       comment_text      malignant  highly_malignant           rude  \\\n",
       "count  159571.00000  159571.000000     159571.000000  159571.000000   \n",
       "mean    79785.00000       0.095844          0.009996       0.052948   \n",
       "std     46064.32424       0.294379          0.099477       0.223931   \n",
       "min         0.00000       0.000000          0.000000       0.000000   \n",
       "25%     39892.50000       0.000000          0.000000       0.000000   \n",
       "50%     79785.00000       0.000000          0.000000       0.000000   \n",
       "75%    119677.50000       0.000000          0.000000       0.000000   \n",
       "max    159570.00000       1.000000          1.000000       1.000000   \n",
       "\n",
       "              threat          abuse         loathe  \n",
       "count  159571.000000  159571.000000  159571.000000  \n",
       "mean        0.002996       0.049364       0.008805  \n",
       "std         0.054650       0.216627       0.093420  \n",
       "min         0.000000       0.000000       0.000000  \n",
       "25%         0.000000       0.000000       0.000000  \n",
       "50%         0.000000       0.000000       0.000000  \n",
       "75%         0.000000       0.000000       0.000000  \n",
       "max         1.000000       1.000000       1.000000  "
      ]
     },
     "execution_count": 24,
     "metadata": {},
     "output_type": "execute_result"
    }
   ],
   "source": [
    "df_train.describe()"
   ]
  },
  {
   "cell_type": "code",
   "execution_count": 25,
   "id": "09b3105f",
   "metadata": {},
   "outputs": [
    {
     "data": {
      "text/html": [
       "<div>\n",
       "<style scoped>\n",
       "    .dataframe tbody tr th:only-of-type {\n",
       "        vertical-align: middle;\n",
       "    }\n",
       "\n",
       "    .dataframe tbody tr th {\n",
       "        vertical-align: top;\n",
       "    }\n",
       "\n",
       "    .dataframe thead th {\n",
       "        text-align: right;\n",
       "    }\n",
       "</style>\n",
       "<table border=\"1\" class=\"dataframe\">\n",
       "  <thead>\n",
       "    <tr style=\"text-align: right;\">\n",
       "      <th></th>\n",
       "      <th>comment_text</th>\n",
       "    </tr>\n",
       "  </thead>\n",
       "  <tbody>\n",
       "    <tr>\n",
       "      <th>count</th>\n",
       "      <td>153164.000000</td>\n",
       "    </tr>\n",
       "    <tr>\n",
       "      <th>mean</th>\n",
       "      <td>76581.500000</td>\n",
       "    </tr>\n",
       "    <tr>\n",
       "      <th>std</th>\n",
       "      <td>44214.782652</td>\n",
       "    </tr>\n",
       "    <tr>\n",
       "      <th>min</th>\n",
       "      <td>0.000000</td>\n",
       "    </tr>\n",
       "    <tr>\n",
       "      <th>25%</th>\n",
       "      <td>38290.750000</td>\n",
       "    </tr>\n",
       "    <tr>\n",
       "      <th>50%</th>\n",
       "      <td>76581.500000</td>\n",
       "    </tr>\n",
       "    <tr>\n",
       "      <th>75%</th>\n",
       "      <td>114872.250000</td>\n",
       "    </tr>\n",
       "    <tr>\n",
       "      <th>max</th>\n",
       "      <td>153163.000000</td>\n",
       "    </tr>\n",
       "  </tbody>\n",
       "</table>\n",
       "</div>"
      ],
      "text/plain": [
       "        comment_text\n",
       "count  153164.000000\n",
       "mean    76581.500000\n",
       "std     44214.782652\n",
       "min         0.000000\n",
       "25%     38290.750000\n",
       "50%     76581.500000\n",
       "75%    114872.250000\n",
       "max    153163.000000"
      ]
     },
     "execution_count": 25,
     "metadata": {},
     "output_type": "execute_result"
    }
   ],
   "source": [
    "df_test.describe()"
   ]
  },
  {
   "cell_type": "markdown",
   "id": "4ead5d53",
   "metadata": {},
   "source": [
    "# Using pandas profiling for a quick analysis"
   ]
  },
  {
   "cell_type": "code",
   "execution_count": 63,
   "id": "ac30bd8e",
   "metadata": {},
   "outputs": [],
   "source": [
    "from pandas_profiling import ProfileReport\n",
    "\n",
    "profile = ProfileReport(df_train, title=\"My Data Profile Report\")"
   ]
  },
  {
   "cell_type": "code",
   "execution_count": 64,
   "id": "6291b3b0",
   "metadata": {},
   "outputs": [
    {
     "data": {
      "application/vnd.jupyter.widget-view+json": {
       "model_id": "dff2efa9d5564fe59b3613f510dca6d0",
       "version_major": 2,
       "version_minor": 0
      },
      "text/plain": [
       "Summarize dataset:   0%|          | 0/5 [00:00<?, ?it/s]"
      ]
     },
     "metadata": {},
     "output_type": "display_data"
    },
    {
     "data": {
      "application/vnd.jupyter.widget-view+json": {
       "model_id": "1f1852f4dc894edb8a63f26d653572ac",
       "version_major": 2,
       "version_minor": 0
      },
      "text/plain": [
       "Generate report structure:   0%|          | 0/1 [00:00<?, ?it/s]"
      ]
     },
     "metadata": {},
     "output_type": "display_data"
    },
    {
     "data": {
      "application/vnd.jupyter.widget-view+json": {
       "model_id": "bf2683007b034a5c90b7c6b58bfc33ed",
       "version_major": 2,
       "version_minor": 0
      },
      "text/plain": [
       "Render HTML:   0%|          | 0/1 [00:00<?, ?it/s]"
      ]
     },
     "metadata": {},
     "output_type": "display_data"
    },
    {
     "data": {
      "application/vnd.jupyter.widget-view+json": {
       "model_id": "095a2d5ae6484a6a9bc1d9754810f1c2",
       "version_major": 2,
       "version_minor": 0
      },
      "text/plain": [
       "Export report to file:   0%|          | 0/1 [00:00<?, ?it/s]"
      ]
     },
     "metadata": {},
     "output_type": "display_data"
    }
   ],
   "source": [
    "# run this line if you are not able to see the report on Jupyter notebook, download the HTML and view it in separte window\n",
    "\n",
    "profile.to_file(\"Malignant_Classifier_report.html\")"
   ]
  },
  {
   "cell_type": "markdown",
   "id": "ecbd3258",
   "metadata": {
    "id": "ecbd3258"
   },
   "source": [
    "# Splitting up of dataset between x (features) and y (target column)\n",
    "\n",
    "#### Since the target values have 2 features of same data type, col \"y\" is split in the following manner"
   ]
  },
  {
   "cell_type": "code",
   "execution_count": 27,
   "id": "3aa6df7d",
   "metadata": {
    "id": "3aa6df7d"
   },
   "outputs": [],
   "source": [
    "# train dataset with featurs only\n",
    "x = df_train.drop(columns = [\"malignant\", \"highly_malignant\", \"rude\", \"threat\", \"abuse\", \"loathe\"], axis=1)\n",
    "\n",
    "y = df_train[[\"malignant\", \"highly_malignant\", \"rude\", \"threat\", \"abuse\", \"loathe\"]]\n",
    "\n",
    "# test dataset with featurs only\n",
    "x1 = df_test"
   ]
  },
  {
   "cell_type": "markdown",
   "id": "69a5a718",
   "metadata": {
    "id": "69a5a718"
   },
   "source": [
    "# Lets us now Scale the data for further processing.¶\n",
    "\n",
    "#### we have used StandardScaler for further scaling up of data "
   ]
  },
  {
   "cell_type": "code",
   "execution_count": 28,
   "id": "db02dc45",
   "metadata": {
    "colab": {
     "base_uri": "https://localhost:8080/"
    },
    "id": "db02dc45",
    "outputId": "23e50f33-89d2-4be0-9032-02ff8c294788"
   },
   "outputs": [
    {
     "data": {
      "text/plain": [
       "array([[-0.15385056],\n",
       "       [-0.24804523],\n",
       "       [-0.00414639],\n",
       "       ...,\n",
       "       [ 0.92084566],\n",
       "       [-0.42870621],\n",
       "       [-1.05676472]])"
      ]
     },
     "execution_count": 28,
     "metadata": {},
     "output_type": "execute_result"
    }
   ],
   "source": [
    "from sklearn.preprocessing import StandardScaler\n",
    "\n",
    "scaler = StandardScaler()\n",
    "x_scaled = scaler.fit_transform(x)\n",
    "x_scaled"
   ]
  },
  {
   "cell_type": "markdown",
   "id": "1b9001a5",
   "metadata": {
    "id": "1b9001a5"
   },
   "source": [
    "# split the dataset into train and test data set\n",
    "\n",
    "#### I have chosed 200 random state and 30% of data is divided in text dataset"
   ]
  },
  {
   "cell_type": "code",
   "execution_count": 29,
   "id": "1fe2441e",
   "metadata": {
    "id": "1fe2441e"
   },
   "outputs": [],
   "source": [
    "x_train, x_test, y_train, y_test = train_test_split(x_scaled, y, test_size=0.30, random_state = 200)"
   ]
  },
  {
   "cell_type": "markdown",
   "id": "a5d5cbb1",
   "metadata": {
    "id": "a5d5cbb1"
   },
   "source": [
    "# Create multi output classification models\n",
    "#### I have considered 4 ML models in this scenario"
   ]
  },
  {
   "cell_type": "markdown",
   "id": "d47e6116",
   "metadata": {
    "id": "d47e6116"
   },
   "source": [
    "### 1) KNeighborsClassifier"
   ]
  },
  {
   "cell_type": "code",
   "execution_count": 43,
   "id": "df7edc04",
   "metadata": {
    "colab": {
     "base_uri": "https://localhost:8080/"
    },
    "id": "df7edc04",
    "outputId": "beb8137c-cc71-4584-fde4-2aad86e18186"
   },
   "outputs": [
    {
     "name": "stdout",
     "output_type": "stream",
     "text": [
      "0.8879094251336899\n",
      "              precision    recall  f1-score   support\n",
      "\n",
      "           0       0.56      0.22      0.32      4598\n",
      "           1       0.41      0.14      0.20       465\n",
      "           2       0.58      0.20      0.29      2491\n",
      "           3       0.14      0.01      0.01       144\n",
      "           4       0.54      0.19      0.28      2305\n",
      "           5       0.27      0.02      0.03       420\n",
      "\n",
      "   micro avg       0.55      0.19      0.29     10423\n",
      "   macro avg       0.42      0.13      0.19     10423\n",
      "weighted avg       0.53      0.19      0.28     10423\n",
      " samples avg       0.02      0.02      0.02     10423\n",
      "\n"
     ]
    }
   ],
   "source": [
    "from sklearn.neighbors import KNeighborsClassifier\n",
    "\n",
    "k_neigh = KNeighborsClassifier()\n",
    "k_neigh.fit(x_train,y_train)\n",
    "\n",
    "y_pred = k_neigh.predict(x_test)\n",
    "\n",
    "print(accuracy_score(y_test, y_pred))\n",
    "print(classification_report(y_test, y_pred))"
   ]
  },
  {
   "cell_type": "markdown",
   "id": "b24818d0",
   "metadata": {
    "id": "b24818d0"
   },
   "source": [
    "### 2) RandomForestClassifier"
   ]
  },
  {
   "cell_type": "code",
   "execution_count": 45,
   "id": "67a0ba91",
   "metadata": {
    "colab": {
     "base_uri": "https://localhost:8080/"
    },
    "id": "67a0ba91",
    "outputId": "f8a94cca-2ee5-481c-8b72-be0f13793c84"
   },
   "outputs": [
    {
     "name": "stdout",
     "output_type": "stream",
     "text": [
      "0.8388201871657754\n",
      "              precision    recall  f1-score   support\n",
      "\n",
      "           0       0.33      0.32      0.32      4598\n",
      "           1       0.20      0.21      0.21       465\n",
      "           2       0.28      0.29      0.28      2491\n",
      "           3       0.11      0.12      0.11       144\n",
      "           4       0.26      0.27      0.27      2305\n",
      "           5       0.07      0.07      0.07       420\n",
      "\n",
      "   micro avg       0.28      0.28      0.28     10423\n",
      "   macro avg       0.21      0.21      0.21     10423\n",
      "weighted avg       0.28      0.28      0.28     10423\n",
      " samples avg       0.03      0.03      0.02     10423\n",
      "\n"
     ]
    }
   ],
   "source": [
    "from sklearn.ensemble import RandomForestClassifier\n",
    "\n",
    "rf = RandomForestClassifier()\n",
    "rf.fit(x_train,y_train)\n",
    "\n",
    "y_pred = rf.predict(x_test)\n",
    "\n",
    "print(accuracy_score(y_test, y_pred))\n",
    "print(classification_report(y_test, y_pred))"
   ]
  },
  {
   "cell_type": "markdown",
   "id": "9d649f7a",
   "metadata": {
    "id": "9d649f7a"
   },
   "source": [
    "### 3) DecisionTreeClassifier"
   ]
  },
  {
   "cell_type": "code",
   "execution_count": 47,
   "id": "b2cbc853",
   "metadata": {
    "colab": {
     "base_uri": "https://localhost:8080/"
    },
    "id": "b2cbc853",
    "outputId": "93331d47-e6dd-4e1c-99cb-7399352f11ae"
   },
   "outputs": [
    {
     "name": "stdout",
     "output_type": "stream",
     "text": [
      "0.8386112967914439\n",
      "              precision    recall  f1-score   support\n",
      "\n",
      "           0       0.32      0.32      0.32      4598\n",
      "           1       0.20      0.21      0.21       465\n",
      "           2       0.28      0.29      0.28      2491\n",
      "           3       0.11      0.12      0.11       144\n",
      "           4       0.26      0.27      0.27      2305\n",
      "           5       0.07      0.07      0.07       420\n",
      "\n",
      "   micro avg       0.28      0.28      0.28     10423\n",
      "   macro avg       0.21      0.21      0.21     10423\n",
      "weighted avg       0.28      0.28      0.28     10423\n",
      " samples avg       0.03      0.03      0.02     10423\n",
      "\n"
     ]
    }
   ],
   "source": [
    "from sklearn.tree import DecisionTreeClassifier\n",
    "\n",
    "dt = DecisionTreeClassifier()\n",
    "dt.fit(x_train,y_train)\n",
    "\n",
    "y_pred = dt.predict(x_test)\n",
    "\n",
    "print(accuracy_score(y_test, y_pred))\n",
    "print(classification_report(y_test, y_pred))"
   ]
  },
  {
   "cell_type": "markdown",
   "id": "fd631e6c",
   "metadata": {
    "id": "fd631e6c"
   },
   "source": [
    "### 4) ExtraTreesClassifier"
   ]
  },
  {
   "cell_type": "code",
   "execution_count": 32,
   "id": "bc4c3a3d",
   "metadata": {
    "colab": {
     "base_uri": "https://localhost:8080/"
    },
    "id": "bc4c3a3d",
    "outputId": "25d61da8-71ea-4ec6-b711-57ea5d526527"
   },
   "outputs": [
    {
     "name": "stdout",
     "output_type": "stream",
     "text": [
      "0.8412224264705882\n",
      "              precision    recall  f1-score   support\n",
      "\n",
      "           0       0.33      0.31      0.32      4598\n",
      "           1       0.20      0.20      0.20       465\n",
      "           2       0.28      0.28      0.28      2491\n",
      "           3       0.08      0.08      0.08       144\n",
      "           4       0.27      0.27      0.27      2305\n",
      "           5       0.07      0.06      0.06       420\n",
      "\n",
      "   micro avg       0.29      0.28      0.28     10423\n",
      "   macro avg       0.21      0.20      0.20     10423\n",
      "weighted avg       0.28      0.28      0.28     10423\n",
      " samples avg       0.03      0.03      0.02     10423\n",
      "\n"
     ]
    }
   ],
   "source": [
    "from sklearn.ensemble import ExtraTreesClassifier\n",
    "\n",
    "ext_reg = ExtraTreesClassifier()\n",
    "ext_reg.fit(x_train,y_train)\n",
    "\n",
    "y_pred = ext_reg.predict(x_test)\n",
    "\n",
    "print(accuracy_score(y_test, y_pred))\n",
    "print(classification_report(y_test, y_pred))"
   ]
  },
  {
   "cell_type": "markdown",
   "id": "d7d30b50",
   "metadata": {
    "id": "d7d30b50"
   },
   "source": [
    "# Cross validation to check if its overfitting"
   ]
  },
  {
   "cell_type": "code",
   "execution_count": 54,
   "id": "e69784b4",
   "metadata": {
    "id": "e69784b4"
   },
   "outputs": [],
   "source": [
    "from sklearn.model_selection import cross_val_score"
   ]
  },
  {
   "cell_type": "code",
   "execution_count": 55,
   "id": "7276c374",
   "metadata": {
    "colab": {
     "base_uri": "https://localhost:8080/"
    },
    "id": "7276c374",
    "outputId": "e4975464-abfe-455a-854d-d4b4c1bdf1bf"
   },
   "outputs": [
    {
     "name": "stdout",
     "output_type": "stream",
     "text": [
      "Cross Validation score of KNeighborsClassifier model is: 0.8875484996195173\n"
     ]
    }
   ],
   "source": [
    "scr = cross_val_score(k_neigh, x, y, cv=5)\n",
    "print(\"Cross Validation score of KNeighborsClassifier model is:\", scr.mean())"
   ]
  },
  {
   "cell_type": "code",
   "execution_count": 56,
   "id": "1c8054e6",
   "metadata": {
    "colab": {
     "base_uri": "https://localhost:8080/"
    },
    "id": "1c8054e6",
    "outputId": "973381aa-a0d1-404f-dbe7-4bdf601587d6"
   },
   "outputs": [
    {
     "name": "stdout",
     "output_type": "stream",
     "text": [
      "Cross Validation score of RandomForestClassifier model is: 0.8385232995015166\n"
     ]
    }
   ],
   "source": [
    "scr = cross_val_score(rf, x, y, cv=5)\n",
    "print(\"Cross Validation score of RandomForestClassifier model is:\", scr.mean())"
   ]
  },
  {
   "cell_type": "code",
   "execution_count": 57,
   "id": "0508c577",
   "metadata": {
    "colab": {
     "base_uri": "https://localhost:8080/"
    },
    "id": "0508c577",
    "outputId": "a095a2b3-3fd7-4ccc-afae-5ec74107bd2c"
   },
   "outputs": [
    {
     "name": "stdout",
     "output_type": "stream",
     "text": [
      "Cross Validation score of DecisionTreeClassifier model is: 0.8383227607494531\n"
     ]
    }
   ],
   "source": [
    "scr = cross_val_score(dt, x, y, cv=5)\n",
    "print(\"Cross Validation score of DecisionTreeClassifier model is:\", scr.mean())"
   ]
  },
  {
   "cell_type": "code",
   "execution_count": 59,
   "id": "628e6c2f",
   "metadata": {
    "colab": {
     "base_uri": "https://localhost:8080/"
    },
    "id": "628e6c2f",
    "outputId": "a5f201e3-1a91-4b60-adfb-ce8958ec2932"
   },
   "outputs": [
    {
     "name": "stdout",
     "output_type": "stream",
     "text": [
      "Cross Validation score of ExtraTreesClassifier model is: 0.8413935122190315\n"
     ]
    }
   ],
   "source": [
    "scr = cross_val_score(ext_reg, x, y, cv=5)\n",
    "print(\"Cross Validation score of ExtraTreesClassifier model is:\", scr.mean())"
   ]
  },
  {
   "attachments": {},
   "cell_type": "markdown",
   "id": "78efda95",
   "metadata": {
    "id": "78efda95"
   },
   "source": [
    "# Selecting the best ML model for this dataset\n",
    "\n",
    "### From the above algorithms ExtraTreesClassifier is an appropriate model for this dataset.\n",
    "\n",
    "### Compared to other algorithms, ExtraTreesClassifier has the least difference between accuracy and cross validation\n",
    "\n",
    "### These 4 algorithms are known to support multiout classification unlike the other models"
   ]
  },
  {
   "cell_type": "markdown",
   "id": "d9209cff",
   "metadata": {
    "id": "d9209cff"
   },
   "source": [
    "| Sr.No | ML Models used | Accuracy Score | Cross Validation Scores | Difference in values |\n",
    "| --- | --- | --- | --- |---|\n",
    "| 1 | KNeighborsClassifier | 0.887909425133689 | 0.887548499619517 | 0.000360925514171995 |\n",
    "| 2 | RandomForestClassifier | 0.838820187165775 | 0.838523299501516 | 0.000296887664258949 |\n",
    "| 3 | DecisionTreeClassifier | 0.838611296791443 | 0.838322760749453 | 0.000288536041989973 |\n",
    "| 4 | ExtraTreesClassifier | 0.840136196524064 | 0.841393512219031 | -0.00125731569496701 |\n"
   ]
  },
  {
   "cell_type": "markdown",
   "id": "ce3bdf5f",
   "metadata": {},
   "source": [
    "## Use \"MultiOutputClassifier\"\n",
    "\n",
    "### This strategy consists of fitting one regressor per target. This is a simple strategy for extending classifiers that do not natively support multi-target classifications."
   ]
  },
  {
   "cell_type": "code",
   "execution_count": 35,
   "id": "0e8764de",
   "metadata": {},
   "outputs": [],
   "source": [
    "from sklearn.multioutput import MultiOutputClassifier"
   ]
  },
  {
   "cell_type": "code",
   "execution_count": 36,
   "id": "4dbe6527",
   "metadata": {},
   "outputs": [],
   "source": [
    "multiclassifier = MultiOutputClassifier(ext_reg)"
   ]
  },
  {
   "cell_type": "code",
   "execution_count": 37,
   "id": "b193428d",
   "metadata": {},
   "outputs": [
    {
     "data": {
      "text/plain": [
       "MultiOutputClassifier(estimator=ExtraTreesClassifier())"
      ]
     },
     "execution_count": 37,
     "metadata": {},
     "output_type": "execute_result"
    }
   ],
   "source": [
    "multiclassifier.fit(x_train,y_train)"
   ]
  },
  {
   "cell_type": "code",
   "execution_count": 63,
   "id": "82a4f17a",
   "metadata": {},
   "outputs": [
    {
     "data": {
      "text/plain": [
       "1.0"
      ]
     },
     "execution_count": 63,
     "metadata": {},
     "output_type": "execute_result"
    }
   ],
   "source": [
    "multiclassifier.score(x_train,y_train)"
   ]
  },
  {
   "cell_type": "markdown",
   "id": "5134bb3e",
   "metadata": {
    "id": "5134bb3e"
   },
   "source": [
    "# Hyper Parameter Tuning\n",
    "\n",
    "### Let us try to tune the proposed model (ExtraTreesClassifier ) to get better accuracy, if possible\n",
    "\n",
    "##### The \"paramaters\" have been selected from the skicit library and I have considered 4 paramaters"
   ]
  },
  {
   "cell_type": "code",
   "execution_count": 38,
   "id": "21b4d071",
   "metadata": {
    "id": "21b4d071"
   },
   "outputs": [],
   "source": [
    "parameters = {\"criterion\":[\"gini\", \"entropy\"],\n",
    "              \"max_features\":[\"auto\", \"sqrt\", \"log2\"],\n",
    "              \"class_weight\":[\"balanced\", \"balanced_subsample\"],\n",
    "              \"oob_score\":[True, False],\n",
    "              \"random_state\":[30, 50, 70, 100, 120],\n",
    "              \"n_estimators\":[100, 130, 150, 170, 200]\n",
    "              }"
   ]
  },
  {
   "cell_type": "markdown",
   "id": "048e8e89",
   "metadata": {
    "id": "048e8e89"
   },
   "source": [
    "### RandomizedSearchCV is used to tune the parameters by fitting the same to the training dataset\n",
    "\n",
    "#### We have used this as the dataset was large to process in GridSearchCV and have used upto 10 iterations before getting best params"
   ]
  },
  {
   "cell_type": "code",
   "execution_count": 65,
   "id": "70f60340",
   "metadata": {
    "id": "70f60340"
   },
   "outputs": [],
   "source": [
    "from sklearn.model_selection import RandomizedSearchCV\n",
    "RCV = RandomizedSearchCV(ExtraTreesClassifier(), parameters, cv=5, n_iter=10)"
   ]
  },
  {
   "cell_type": "code",
   "execution_count": 66,
   "id": "bbc07b14",
   "metadata": {
    "colab": {
     "base_uri": "https://localhost:8080/"
    },
    "id": "bbc07b14",
    "outputId": "bc27d810-e184-4b9e-a5e7-bea4ceb7a6c1"
   },
   "outputs": [
    {
     "data": {
      "text/plain": [
       "RandomizedSearchCV(cv=5, estimator=ExtraTreesClassifier(),\n",
       "                   param_distributions={'class_weight': ['balanced',\n",
       "                                                         'balanced_subsample'],\n",
       "                                        'criterion': ['gini', 'entropy'],\n",
       "                                        'max_features': ['auto', 'sqrt',\n",
       "                                                         'log2'],\n",
       "                                        'n_estimators': [100, 130, 150, 170,\n",
       "                                                         200],\n",
       "                                        'oob_score': [True, False],\n",
       "                                        'random_state': [30, 50, 70, 100, 120]})"
      ]
     },
     "execution_count": 66,
     "metadata": {},
     "output_type": "execute_result"
    }
   ],
   "source": [
    "RCV.fit(x_train, y_train)"
   ]
  },
  {
   "cell_type": "code",
   "execution_count": 67,
   "id": "428079f5",
   "metadata": {},
   "outputs": [
    {
     "data": {
      "text/plain": [
       "{'random_state': 120,\n",
       " 'oob_score': False,\n",
       " 'n_estimators': 130,\n",
       " 'max_features': 'auto',\n",
       " 'criterion': 'gini',\n",
       " 'class_weight': 'balanced_subsample'}"
      ]
     },
     "execution_count": 67,
     "metadata": {},
     "output_type": "execute_result"
    }
   ],
   "source": [
    "RCV.best_params_"
   ]
  },
  {
   "cell_type": "markdown",
   "id": "30df7825",
   "metadata": {
    "id": "30df7825"
   },
   "source": [
    "### Rebuild the model using the appropriate params we recieved from best_params_\n",
    "\n",
    "\n",
    "#### Its observed that there is no improvement in model accuracy and it still stands at 98.32 % better"
   ]
  },
  {
   "cell_type": "code",
   "execution_count": 40,
   "id": "95d351ec",
   "metadata": {},
   "outputs": [],
   "source": [
    "mod_final = MultiOutputClassifier(ExtraTreesClassifier(random_state = 120, oob_score = False, n_estimators = 130,\n",
    "                                                       max_features= \"auto\", criterion= \"gini\", class_weight = \"balanced_subsample\"))\n",
    "\n",
    "mod_final.fit(x_train,y_train)\n",
    "pred = mod_final.predict(x_test)"
   ]
  },
  {
   "cell_type": "code",
   "execution_count": 69,
   "id": "604cc65c",
   "metadata": {},
   "outputs": [
    {
     "data": {
      "text/plain": [
       "1.0"
      ]
     },
     "execution_count": 69,
     "metadata": {},
     "output_type": "execute_result"
    }
   ],
   "source": [
    "mod_final.score(x_train,y_train)"
   ]
  },
  {
   "cell_type": "markdown",
   "id": "9c92b463",
   "metadata": {
    "id": "9c92b463"
   },
   "source": [
    "# Saving the model (using joblib)"
   ]
  },
  {
   "cell_type": "code",
   "execution_count": 70,
   "id": "899766e5",
   "metadata": {},
   "outputs": [
    {
     "data": {
      "text/plain": [
       "['Malignant_Comments.pkl']"
      ]
     },
     "execution_count": 70,
     "metadata": {},
     "output_type": "execute_result"
    }
   ],
   "source": [
    "import joblib\n",
    " \n",
    "joblib.dump(mod_final,\"Malignant_Comments.pkl\")"
   ]
  },
  {
   "cell_type": "markdown",
   "id": "351a028e",
   "metadata": {
    "id": "351a028e"
   },
   "source": [
    "# Loading the saved model"
   ]
  },
  {
   "cell_type": "code",
   "execution_count": 72,
   "id": "0669a76e",
   "metadata": {},
   "outputs": [
    {
     "data": {
      "text/html": [
       "<div>\n",
       "<style scoped>\n",
       "    .dataframe tbody tr th:only-of-type {\n",
       "        vertical-align: middle;\n",
       "    }\n",
       "\n",
       "    .dataframe tbody tr th {\n",
       "        vertical-align: top;\n",
       "    }\n",
       "\n",
       "    .dataframe thead th {\n",
       "        text-align: right;\n",
       "    }\n",
       "</style>\n",
       "<table border=\"1\" class=\"dataframe\">\n",
       "  <thead>\n",
       "    <tr style=\"text-align: right;\">\n",
       "      <th></th>\n",
       "      <th>0</th>\n",
       "      <th>1</th>\n",
       "      <th>2</th>\n",
       "      <th>3</th>\n",
       "      <th>4</th>\n",
       "      <th>5</th>\n",
       "    </tr>\n",
       "  </thead>\n",
       "  <tbody>\n",
       "    <tr>\n",
       "      <th>0</th>\n",
       "      <td>0</td>\n",
       "      <td>0</td>\n",
       "      <td>0</td>\n",
       "      <td>0</td>\n",
       "      <td>0</td>\n",
       "      <td>0</td>\n",
       "    </tr>\n",
       "    <tr>\n",
       "      <th>1</th>\n",
       "      <td>0</td>\n",
       "      <td>0</td>\n",
       "      <td>0</td>\n",
       "      <td>0</td>\n",
       "      <td>0</td>\n",
       "      <td>0</td>\n",
       "    </tr>\n",
       "    <tr>\n",
       "      <th>2</th>\n",
       "      <td>0</td>\n",
       "      <td>0</td>\n",
       "      <td>0</td>\n",
       "      <td>0</td>\n",
       "      <td>0</td>\n",
       "      <td>0</td>\n",
       "    </tr>\n",
       "    <tr>\n",
       "      <th>3</th>\n",
       "      <td>0</td>\n",
       "      <td>0</td>\n",
       "      <td>0</td>\n",
       "      <td>0</td>\n",
       "      <td>0</td>\n",
       "      <td>0</td>\n",
       "    </tr>\n",
       "    <tr>\n",
       "      <th>4</th>\n",
       "      <td>0</td>\n",
       "      <td>0</td>\n",
       "      <td>0</td>\n",
       "      <td>0</td>\n",
       "      <td>0</td>\n",
       "      <td>0</td>\n",
       "    </tr>\n",
       "    <tr>\n",
       "      <th>...</th>\n",
       "      <td>...</td>\n",
       "      <td>...</td>\n",
       "      <td>...</td>\n",
       "      <td>...</td>\n",
       "      <td>...</td>\n",
       "      <td>...</td>\n",
       "    </tr>\n",
       "    <tr>\n",
       "      <th>153159</th>\n",
       "      <td>0</td>\n",
       "      <td>0</td>\n",
       "      <td>0</td>\n",
       "      <td>0</td>\n",
       "      <td>0</td>\n",
       "      <td>0</td>\n",
       "    </tr>\n",
       "    <tr>\n",
       "      <th>153160</th>\n",
       "      <td>0</td>\n",
       "      <td>0</td>\n",
       "      <td>0</td>\n",
       "      <td>0</td>\n",
       "      <td>0</td>\n",
       "      <td>0</td>\n",
       "    </tr>\n",
       "    <tr>\n",
       "      <th>153161</th>\n",
       "      <td>0</td>\n",
       "      <td>0</td>\n",
       "      <td>0</td>\n",
       "      <td>0</td>\n",
       "      <td>0</td>\n",
       "      <td>0</td>\n",
       "    </tr>\n",
       "    <tr>\n",
       "      <th>153162</th>\n",
       "      <td>0</td>\n",
       "      <td>0</td>\n",
       "      <td>0</td>\n",
       "      <td>0</td>\n",
       "      <td>0</td>\n",
       "      <td>0</td>\n",
       "    </tr>\n",
       "    <tr>\n",
       "      <th>153163</th>\n",
       "      <td>0</td>\n",
       "      <td>0</td>\n",
       "      <td>0</td>\n",
       "      <td>0</td>\n",
       "      <td>0</td>\n",
       "      <td>0</td>\n",
       "    </tr>\n",
       "  </tbody>\n",
       "</table>\n",
       "<p>153164 rows × 6 columns</p>\n",
       "</div>"
      ],
      "text/plain": [
       "        0  1  2  3  4  5\n",
       "0       0  0  0  0  0  0\n",
       "1       0  0  0  0  0  0\n",
       "2       0  0  0  0  0  0\n",
       "3       0  0  0  0  0  0\n",
       "4       0  0  0  0  0  0\n",
       "...    .. .. .. .. .. ..\n",
       "153159  0  0  0  0  0  0\n",
       "153160  0  0  0  0  0  0\n",
       "153161  0  0  0  0  0  0\n",
       "153162  0  0  0  0  0  0\n",
       "153163  0  0  0  0  0  0\n",
       "\n",
       "[153164 rows x 6 columns]"
      ]
     },
     "execution_count": 72,
     "metadata": {},
     "output_type": "execute_result"
    }
   ],
   "source": [
    "model = joblib.load(\"Malignant_Comments.pkl\")\n",
    "\n",
    "prediction = model.predict(df_test)\n",
    "\n",
    "prediction=pd.DataFrame(prediction)\n",
    "prediction"
   ]
  }
 ],
 "metadata": {
  "colab": {
   "collapsed_sections": [],
   "name": "HR_Analytics_Prediction.ipynb",
   "provenance": []
  },
  "kernelspec": {
   "display_name": "Python 3",
   "language": "python",
   "name": "python3"
  },
  "language_info": {
   "codemirror_mode": {
    "name": "ipython",
    "version": 3
   },
   "file_extension": ".py",
   "mimetype": "text/x-python",
   "name": "python",
   "nbconvert_exporter": "python",
   "pygments_lexer": "ipython3",
   "version": "3.8.8"
  }
 },
 "nbformat": 4,
 "nbformat_minor": 5
}
